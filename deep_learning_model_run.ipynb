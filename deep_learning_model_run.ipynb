{
  "cells": [
    {
      "cell_type": "markdown",
      "metadata": {
        "id": "fOyBrY7C3xCo"
      },
      "source": [
        "### Mounting Drive from Colab\n",
        "\n",
        "Google Drive space to store data and scripts:\n",
        "\n",
        "- folder where results are written (e.g. projects/deep_learning_for_breeding/iteration1/\n"
      ]
    },
    {
      "cell_type": "code",
      "execution_count": null,
      "metadata": {
        "id": "ONzNe74RyzAa",
        "colab": {
          "base_uri": "https://localhost:8080/"
        },
        "outputId": "8e23a001-5e27-418f-d1a3-20a318ec7cb9"
      },
      "outputs": [
        {
          "output_type": "stream",
          "name": "stdout",
          "text": [
            "Mounted at /content/gdrive\n"
          ]
        }
      ],
      "source": [
        "#this cell mounts the user's google drive in the specified folder,\n",
        "#but only once (doing more than once would generate an error)\n",
        "import os\n",
        "\n",
        "gdrive_folder = '/content/gdrive'\n",
        "project_folder = '/content/gdrive/MyDrive/projects/deep_learning_for_breeding/temp' ## !! IMPORTANT: change this depending on data iteration !!\n",
        "\n",
        "if not os.path.isdir(gdrive_folder):\n",
        "  from google.colab import drive\n",
        "  drive.mount(gdrive_folder)"
      ]
    },
    {
      "cell_type": "markdown",
      "metadata": {
        "id": "tVSr65Mh31R2"
      },
      "source": [
        "### Importing data\n",
        "\n",
        "- select file name (e.g. phenotypes_iteration1) (default: 'phenotypes')\n",
        "- select trait: e.g. 'simphe_mean0_hSquare0.7_cv0.1_QTN1000_A100_D0_AA0_AD0_DA0_DD0_epoch1649239502'\n",
        "\n",
        "kinship matrices are hosted on [zenodo.org](https://zenodo.org/record/6602439#.YpofCHVBxhE);\n",
        "simulated phenotypes are hosted on **Github** (https://github.com/filippob/paper_deep_learning_vs_gblup)"
      ]
    },
    {
      "cell_type": "code",
      "execution_count": null,
      "metadata": {
        "id": "d7JaMg2a3wC3",
        "colab": {
          "base_uri": "https://localhost:8080/"
        },
        "outputId": "77a62890-2a20-4ed5-a801-adb5e346fae7"
      },
      "outputs": [
        {
          "output_type": "stream",
          "name": "stdout",
          "text": [
            "--2022-06-03 14:34:07--  https://raw.githubusercontent.com/filippob/paper_deep_learning_vs_gblup/main/scripts/import_kinship.py\n",
            "Resolving raw.githubusercontent.com (raw.githubusercontent.com)... 185.199.108.133, 185.199.110.133, 185.199.111.133, ...\n",
            "Connecting to raw.githubusercontent.com (raw.githubusercontent.com)|185.199.108.133|:443... connected.\n",
            "HTTP request sent, awaiting response... 200 OK\n",
            "Length: 2527 (2.5K) [text/plain]\n",
            "Saving to: ‘import_kinship.py’\n",
            "\n",
            "\rimport_kinship.py     0%[                    ]       0  --.-KB/s               \rimport_kinship.py   100%[===================>]   2.47K  --.-KB/s    in 0s      \n",
            "\n",
            "2022-06-03 14:34:07 (31.4 MB/s) - ‘import_kinship.py’ saved [2527/2527]\n",
            "\n",
            "--2022-06-03 14:34:07--  https://raw.githubusercontent.com/filippob/paper_deep_learning_vs_gblup/main/scripts/import_phenotype.py\n",
            "Resolving raw.githubusercontent.com (raw.githubusercontent.com)... 185.199.111.133, 185.199.109.133, 185.199.108.133, ...\n",
            "Connecting to raw.githubusercontent.com (raw.githubusercontent.com)|185.199.111.133|:443... connected.\n",
            "HTTP request sent, awaiting response... 200 OK\n",
            "Length: 3629 (3.5K) [text/plain]\n",
            "Saving to: ‘import_phenotype.py’\n",
            "\n",
            "import_phenotype.py 100%[===================>]   3.54K  --.-KB/s    in 0s      \n",
            "\n",
            "2022-06-03 14:34:07 (59.3 MB/s) - ‘import_phenotype.py’ saved [3629/3629]\n",
            "\n",
            "--2022-06-03 14:34:07--  https://raw.githubusercontent.com/filippob/paper_deep_learning_vs_gblup/main/scripts/import_functions.py\n",
            "Resolving raw.githubusercontent.com (raw.githubusercontent.com)... 185.199.108.133, 185.199.109.133, 185.199.110.133, ...\n",
            "Connecting to raw.githubusercontent.com (raw.githubusercontent.com)|185.199.108.133|:443... connected.\n",
            "HTTP request sent, awaiting response... 200 OK\n",
            "Length: 4939 (4.8K) [text/plain]\n",
            "Saving to: ‘import_functions.py’\n",
            "\n",
            "import_functions.py 100%[===================>]   4.82K  --.-KB/s    in 0s      \n",
            "\n",
            "2022-06-03 14:34:07 (52.9 MB/s) - ‘import_functions.py’ saved [4939/4939]\n",
            "\n"
          ]
        }
      ],
      "source": [
        "#for data import scripts\n",
        "import argparse\n",
        "\n",
        "#general import used everywhere\n",
        "import numpy as np\n",
        "import pandas as pd\n",
        "\n",
        "## file name (default 'phenotypes')\n",
        "fname = 'phenotypes_iteration1'\n",
        "\n",
        "## parameters\n",
        "### iteration 1\n",
        "trait='simphe_mean0_hSquare0.7_cv0.1_QTN1000_A100_D0_AA0_AD0_DA0_DD0_epoch1649239502'\n",
        "#trait='simphe_mean0_hSquare0.7_cv0.1_QTN1000_A75_D25_AA0_AD0_DA0_DD0_epoch1649239502'\n",
        "#trait='simphe_mean0_hSquare0.7_cv0.1_QTN1000_A50_D50_AA0_AD0_DA0_DD0_epoch1649240345'\n",
        "#trait='simphe_mean0_hSquare0.7_cv0.1_QTN1000_A25_D75_AA0_AD0_DA0_DD0_epoch1649240345'\n",
        "#trait='simphe_mean0_hSquare0.7_cv0.1_QTN1000_A0_D100_AA0_AD0_DA0_DD0_epoch1649240989'\n",
        "#trait='simphe_mean0_hSquare0.7_cv0.1_QTN1000_A33_D33_AA34_AD0_DA0_DD0_epoch1649241541'\n",
        "#trait='simphe_mean0_hSquare0.7_cv0.1_QTN1000_A33_D33_AA0_AD34_DA0_DD0_epoch1649241541'\n",
        "#trait='simphe_mean0_hSquare0.7_cv0.1_QTN1000_A33_D33_AA0_AD0_DA34_DD0_epoch1649242513'\n",
        "#trait='simphe_mean0_hSquare0.7_cv0.1_QTN1000_A33_D33_AA0_AD0_DA0_DD34_epoch1649242513'\n",
        "#trait='simphe_mean0_hSquare0.7_cv0.1_QTN1000_A33_D33_AA8.5_AD8.5_DA8.5_DD8.5_epoch1649246514'\n",
        "\n",
        "#loading import functions \n",
        "!wget -O import_kinship.py https://raw.githubusercontent.com/filippob/paper_deep_learning_vs_gblup/main/scripts/import_kinship.py\n",
        "!wget -O import_phenotype.py https://raw.githubusercontent.com/filippob/paper_deep_learning_vs_gblup/main/scripts/import_phenotype.py\n",
        "!wget -O import_functions.py https://raw.githubusercontent.com/filippob/paper_deep_learning_vs_gblup/main/scripts/import_functions.py"
      ]
    },
    {
      "cell_type": "code",
      "source": [
        "#should we download the data? (if it's already there, there's no need to\n",
        "#waste time, this is useful for reruns of the script without resetting the env)\n",
        "if 'kinship' not in globals():\n",
        "  #importing cattle data in two variables: kiship and phenotypes\n",
        "  %run import_kinship.py -r https://zenodo.org/record/6602439/files/ -s /content/data/ -d cattle\n",
        "\n",
        "  #transposing kinship so that it's feeedable to keras\n",
        "  kinship = np.transpose(kinship, (2,1,0))\n",
        "else:\n",
        "  print('Kinship data already saved locally, skipping download')\n",
        "\n",
        "## import phenotypic data\n",
        "%run import_phenotype.py -r https://raw.githubusercontent.com/filippob/paper_deep_learning_vs_gblup/main/data/simulated_phenotypes/ -s /content/data/ -d cattle --fname \"$fname\" -p \"$trait\""
      ],
      "metadata": {
        "colab": {
          "base_uri": "https://localhost:8080/"
        },
        "id": "WvYn431f1_81",
        "outputId": "195bf454-b63a-4f83-b94d-e7e206cdc0b4"
      },
      "execution_count": null,
      "outputs": [
        {
          "output_type": "stream",
          "name": "stdout",
          "text": [
            "Remote folder is: https://zenodo.org/record/6602439/files/\n",
            "Target folder is: /content/data/\n",
            "Dataset is: cattle\n",
            "Data will be downloaded to: /content/data/cattle/\n",
            "create folder /content/data/cattle/\n",
            "Downloading https://zenodo.org/record/6602439/files/kinship_additive_minMAF0.01_maxMAF0.05.csv.gz\n",
            "Downloading https://zenodo.org/record/6602439/files/kinship_additive_minMAF0.01_maxMAF0.5.csv.gz\n",
            "Downloading https://zenodo.org/record/6602439/files/kinship_additive_minMAF0.05_maxMAF0.5.csv.gz\n",
            "Downloading https://zenodo.org/record/6602439/files/kinship_dominance_minMAF0.01_maxMAF0.05.csv.gz\n",
            "Downloading https://zenodo.org/record/6602439/files/kinship_dominance_minMAF0.01_maxMAF0.5.csv.gz\n",
            "Downloading https://zenodo.org/record/6602439/files/kinship_dominance_minMAF0.05_maxMAF0.5.csv.gz\n",
            "Downloading https://zenodo.org/record/6602439/files/kinship_epistasis_AA_minMAF0.01_maxMAF0.05.csv.gz\n",
            "Downloading https://zenodo.org/record/6602439/files/kinship_epistasis_AA_minMAF0.01_maxMAF0.5.csv.gz\n",
            "Downloading https://zenodo.org/record/6602439/files/kinship_epistasis_AA_minMAF0.05_maxMAF0.5.csv.gz\n",
            "Downloading https://zenodo.org/record/6602439/files/kinship_epistasis_AD_minMAF0.01_maxMAF0.05.csv.gz\n",
            "Downloading https://zenodo.org/record/6602439/files/kinship_epistasis_AD_minMAF0.01_maxMAF0.5.csv.gz\n",
            "Downloading https://zenodo.org/record/6602439/files/kinship_epistasis_AD_minMAF0.05_maxMAF0.5.csv.gz\n",
            "Downloading https://zenodo.org/record/6602439/files/kinship_epistasis_DD_minMAF0.01_maxMAF0.05.csv.gz\n",
            "Downloading https://zenodo.org/record/6602439/files/kinship_epistasis_DD_minMAF0.01_maxMAF0.5.csv.gz\n",
            "Downloading https://zenodo.org/record/6602439/files/kinship_epistasis_DD_minMAF0.05_maxMAF0.5.csv.gz\n",
            "reading kinship_additive_minMAF0.05_maxMAF0.5.csv\n",
            "reading kinship_additive_minMAF0.01_maxMAF0.5.csv\n",
            "reading kinship_epistasis_DD_minMAF0.05_maxMAF0.5.csv\n",
            "reading kinship_epistasis_AD_minMAF0.01_maxMAF0.05.csv\n",
            "reading kinship_epistasis_AA_minMAF0.01_maxMAF0.05.csv\n",
            "reading kinship_additive_minMAF0.01_maxMAF0.05.csv\n",
            "reading kinship_epistasis_AA_minMAF0.05_maxMAF0.5.csv\n",
            "reading kinship_epistasis_DD_minMAF0.01_maxMAF0.05.csv\n",
            "reading kinship_epistasis_AD_minMAF0.05_maxMAF0.5.csv\n",
            "reading kinship_epistasis_AD_minMAF0.01_maxMAF0.5.csv\n",
            "reading kinship_epistasis_AA_minMAF0.01_maxMAF0.5.csv\n",
            "reading kinship_dominance_minMAF0.01_maxMAF0.05.csv\n",
            "reading kinship_epistasis_DD_minMAF0.01_maxMAF0.5.csv\n",
            "reading kinship_dominance_minMAF0.01_maxMAF0.5.csv\n",
            "reading kinship_dominance_minMAF0.05_maxMAF0.5.csv\n",
            "The shape of the resulting 3-D array is:\n",
            "(15, 1033, 1033)\n",
            "the object 'kinship' has been created, with dimensions (15, 1033, 1033)\n",
            "Kinship has been loaded!\n",
            "Remote folder is: https://raw.githubusercontent.com/filippob/paper_deep_learning_vs_gblup/main/data/simulated_phenotypes/\n",
            "Target folder is: /content/data/\n",
            "Dataset is: cattle\n",
            "Name of file to download is: phenotypes_iteration1\n",
            "Sorted or not? sorted\n",
            "Selected trait: simphe_mean0_hSquare0.7_cv0.1_QTN1000_A100_D0_AA0_AD0_DA0_DD0_epoch1649239502\n",
            "Output type: 1d numpy array\n",
            "Data will be downloaded to: /content/data/cattle/\n",
            "create folder /content/data/cattle/\n",
            "File phenotypes_iteration1_sorted.csv\n",
            "Downloading https://raw.githubusercontent.com/filippob/paper_deep_learning_vs_gblup/main/data/simulated_phenotypes/phenotypes_iteration1_sorted.csv\n",
            "Done!\n",
            "select trait simphe_mean0_hSquare0.7_cv0.1_QTN1000_A100_D0_AA0_AD0_DA0_DD0_epoch1649239502 from phenotype file /content/data/cattle/phenotypes_iteration1_sorted.csv\n",
            "The selected trait is  simphe_mean0_hSquare0.7_cv0.1_QTN1000_A100_D0_AA0_AD0_DA0_DD0_epoch1649239502\n",
            "Data have been loaded!\n"
          ]
        }
      ]
    },
    {
      "cell_type": "markdown",
      "metadata": {
        "id": "l4ABqgKS5UaJ"
      },
      "source": [
        "### Data preprocessing - phenotypes\n",
        "\n",
        "Phenotypic data are standardized: mean 0 and standard deviation 1 (as for GBLUP)"
      ]
    },
    {
      "cell_type": "code",
      "execution_count": null,
      "metadata": {
        "id": "rRXej5sX5WqA",
        "colab": {
          "base_uri": "https://localhost:8080/",
          "height": 266
        },
        "outputId": "69a8ee3a-3c7f-4387-a103-2b177d910262"
      },
      "outputs": [
        {
          "output_type": "display_data",
          "data": {
            "text/plain": [
              "<Figure size 432x288 with 1 Axes>"
            ],
            "image/png": "[encoded data removed]"
          },
          "metadata": {
            "needs_background": "light"
          }
        }
      ],
      "source": [
        "#normalization\n",
        "phenotypes_mean = np.mean(phenotypes)\n",
        "phenotypes_sd = np.std(phenotypes)\n",
        "phenotypes = (phenotypes - phenotypes_mean) / phenotypes_sd\n",
        "\n",
        "#taking a look at the target variable\n",
        "from matplotlib import pyplot as plt\n",
        "plt.hist(phenotypes, bins = 15)\n",
        "plt.show()"
      ]
    },
    {
      "cell_type": "markdown",
      "metadata": {
        "id": "mF9HMpQV5g_6"
      },
      "source": [
        "## Build the neural network"
      ]
    },
    {
      "cell_type": "markdown",
      "metadata": {
        "id": "-dmlFn9Q5kMr"
      },
      "source": [
        "### Import support functions\n",
        "\n",
        "Download support functions to:\n",
        "\n",
        "- set up the deep learning model\n",
        "- apply data augmentation if needed\n",
        "- calculate performance metrics\n",
        "- save results"
      ]
    },
    {
      "cell_type": "code",
      "execution_count": null,
      "metadata": {
        "id": "3vcrm-iG5i9B",
        "colab": {
          "base_uri": "https://localhost:8080/",
          "height": 797
        },
        "outputId": "d6173dba-9730-4a57-9fc6-8a6eb638201d"
      },
      "outputs": [
        {
          "output_type": "stream",
          "name": "stdout",
          "text": [
            "--2022-06-03 14:51:13--  https://raw.githubusercontent.com/filippob/paper_deep_learning_vs_gblup/main/scripts/keras_metrics.py\n",
            "Resolving raw.githubusercontent.com (raw.githubusercontent.com)... 185.199.108.133, 185.199.110.133, 185.199.109.133, ...\n",
            "Connecting to raw.githubusercontent.com (raw.githubusercontent.com)|185.199.108.133|:443... connected.\n",
            "HTTP request sent, awaiting response... 200 OK\n",
            "Length: 3950 (3.9K) [text/plain]\n",
            "Saving to: ‘keras_metrics.py’\n",
            "\n",
            "\rkeras_metrics.py      0%[                    ]       0  --.-KB/s               \rkeras_metrics.py    100%[===================>]   3.86K  --.-KB/s    in 0s      \n",
            "\n",
            "2022-06-03 14:51:13 (54.4 MB/s) - ‘keras_metrics.py’ saved [3950/3950]\n",
            "\n",
            "--2022-06-03 14:51:16--  https://raw.githubusercontent.com/filippob/paper_deep_learning_vs_gblup/main/scripts/keras_toolbox.py\n",
            "Resolving raw.githubusercontent.com (raw.githubusercontent.com)... 185.199.108.133, 185.199.110.133, 185.199.109.133, ...\n",
            "Connecting to raw.githubusercontent.com (raw.githubusercontent.com)|185.199.108.133|:443... connected.\n",
            "HTTP request sent, awaiting response... 200 OK\n",
            "Length: 3355 (3.3K) [text/plain]\n",
            "Saving to: ‘keras_toolbox.py’\n",
            "\n",
            "keras_toolbox.py    100%[===================>]   3.28K  --.-KB/s    in 0s      \n",
            "\n",
            "2022-06-03 14:51:16 (50.9 MB/s) - ‘keras_toolbox.py’ saved [3355/3355]\n",
            "\n",
            "--2022-06-03 14:51:16--  https://raw.githubusercontent.com/filippob/paper_deep_learning_vs_gblup/main/scripts/save_results.py\n",
            "Resolving raw.githubusercontent.com (raw.githubusercontent.com)... 185.199.108.133, 185.199.110.133, 185.199.109.133, ...\n",
            "Connecting to raw.githubusercontent.com (raw.githubusercontent.com)|185.199.108.133|:443... connected.\n",
            "HTTP request sent, awaiting response... 200 OK\n",
            "Length: 4449 (4.3K) [text/plain]\n",
            "Saving to: ‘save_results.py’\n",
            "\n",
            "save_results.py     100%[===================>]   4.34K  --.-KB/s    in 0s      \n",
            "\n",
            "2022-06-03 14:51:16 (30.9 MB/s) - ‘save_results.py’ saved [4449/4449]\n",
            "\n",
            "--2022-06-03 14:51:16--  https://raw.githubusercontent.com/filippob/paper_deep_learning_vs_gblup/main/scripts/data_augmentation_toolbox.py\n",
            "Resolving raw.githubusercontent.com (raw.githubusercontent.com)... 185.199.108.133, 185.199.109.133, 185.199.110.133, ...\n",
            "Connecting to raw.githubusercontent.com (raw.githubusercontent.com)|185.199.108.133|:443... connected.\n",
            "HTTP request sent, awaiting response... 200 OK\n",
            "Length: 3208 (3.1K) [text/plain]\n",
            "Saving to: ‘data_augmentation_toolbox.py’\n",
            "\n",
            "data_augmentation_t 100%[===================>]   3.13K  --.-KB/s    in 0s      \n",
            "\n",
            "2022-06-03 14:51:16 (47.2 MB/s) - ‘data_augmentation_toolbox.py’ saved [3208/3208]\n",
            "\n"
          ]
        },
        {
          "output_type": "display_data",
          "data": {
            "text/plain": [
              "<Figure size 432x288 with 0 Axes>"
            ]
          },
          "metadata": {}
        }
      ],
      "source": [
        "#keras custom metrics, relevant functions: pearson() and rmse()\n",
        "!wget -O keras_metrics.py https://raw.githubusercontent.com/filippob/paper_deep_learning_vs_gblup/main/scripts/keras_metrics.py\n",
        "%run keras_metrics.py\n",
        "\n",
        "#general toolbox\n",
        "!wget -O keras_toolbox.py https://raw.githubusercontent.com/filippob/paper_deep_learning_vs_gblup/main/scripts/keras_toolbox.py\n",
        "%run keras_toolbox.py\n",
        "\n",
        "#functions to parse and save results\n",
        "!wget -O save_results.py https://raw.githubusercontent.com/filippob/paper_deep_learning_vs_gblup/main/scripts/save_results.py\n",
        "%run save_results.py\n",
        "\n",
        "#functions to aid data augmentation\n",
        "!wget -O data_augmentation_toolbox.py https://raw.githubusercontent.com/filippob/paper_deep_learning_vs_gblup/main/scripts/data_augmentation_toolbox.py\n",
        "%run data_augmentation_toolbox.py"
      ]
    },
    {
      "cell_type": "markdown",
      "metadata": {
        "id": "HBnbLtGMQnQN"
      },
      "source": [
        "### Model parameters\n",
        "\n",
        "Define parameters to run the deep learning model (run at least 20 epochs to be able to save results)"
      ]
    },
    {
      "cell_type": "code",
      "execution_count": null,
      "metadata": {
        "id": "wHuj_pRGQqBE"
      },
      "outputs": [],
      "source": [
        "#dictionary\n",
        "config = dict({'input_shape':(kinship.shape[1], kinship.shape[2], 1),\n",
        "               'batch_size':64,\n",
        "               'num_epochs':30,\n",
        "               'val_split':0,\n",
        "               'learn_rate':0.001,\n",
        "               'architecture':'Dense',\n",
        "               'pool_step' : 2,\n",
        "               'drop_rate' : 0.25,\n",
        "               'regularizer_l1' : None,\n",
        "               'regularizer_l2' : None\n",
        "               })\n"
      ]
    },
    {
      "cell_type": "markdown",
      "metadata": {
        "id": "Sbgt2XqS_DDh"
      },
      "source": [
        "### Resampling data and fitting the NN model\n",
        "\n",
        "Training - Validation split: 80% - 20%"
      ]
    },
    {
      "cell_type": "code",
      "execution_count": null,
      "metadata": {
        "id": "AYTR5YnJ-o-q",
        "colab": {
          "base_uri": "https://localhost:8080/",
          "height": 1000
        },
        "outputId": "41954545-1b10-44c6-cbe4-da2f11edfe56"
      },
      "outputs": [
        {
          "output_type": "stream",
          "name": "stdout",
          "text": [
            " - updating the config object\n",
            " - defining the model\n",
            " - compiling the model\n",
            " - splitting train and validation sets\n",
            " - augmenting train data with gaussian noise\n",
            " - fitting the model\n",
            "   - doing epochs 0 -> 10\n",
            "Epoch 1/10\n",
            "26/26 [==============================] - 96s 4s/step - loss: 48.1042 - pearson: -0.0031 - rmse: 3.0712\n",
            "Epoch 2/10\n",
            "26/26 [==============================] - 93s 4s/step - loss: 2.4685 - pearson: 0.0178 - rmse: 1.1391\n",
            "Epoch 3/10\n",
            "26/26 [==============================] - 91s 3s/step - loss: 1.3208 - pearson: 0.0331 - rmse: 0.8911\n",
            "Epoch 4/10\n",
            "26/26 [==============================] - 90s 3s/step - loss: 1.0050 - pearson: 0.0943 - rmse: 0.7984\n",
            "Epoch 5/10\n",
            "26/26 [==============================] - 92s 4s/step - loss: 0.9381 - pearson: 0.1506 - rmse: 0.7714\n",
            "Epoch 6/10\n",
            "26/26 [==============================] - 90s 3s/step - loss: 0.9012 - pearson: 0.2488 - rmse: 0.7525\n",
            "Epoch 7/10\n",
            "26/26 [==============================] - 90s 3s/step - loss: 0.8591 - pearson: 0.3272 - rmse: 0.7334\n",
            "Epoch 8/10\n",
            "26/26 [==============================] - 92s 4s/step - loss: 0.7999 - pearson: 0.4269 - rmse: 0.7035\n",
            "Epoch 9/10\n",
            "26/26 [==============================] - 90s 3s/step - loss: 0.7230 - pearson: 0.5048 - rmse: 0.6647\n",
            "Epoch 10/10\n",
            "26/26 [==============================] - 90s 3s/step - loss: 0.6744 - pearson: 0.5471 - rmse: 0.6384\n",
            "4/4 [==============================] - 3s 550ms/step - loss: 1.0374 - pearson: 0.3308 - rmse: 0.8006\n",
            "   - doing epochs 10 -> 20\n",
            "Epoch 1/10\n",
            "26/26 [==============================] - 90s 3s/step - loss: 0.6223 - pearson: 0.5992 - rmse: 0.6044\n",
            "Epoch 2/10\n",
            "26/26 [==============================] - 90s 3s/step - loss: 0.5532 - pearson: 0.6519 - rmse: 0.5686\n",
            "Epoch 3/10\n",
            "26/26 [==============================] - 91s 3s/step - loss: 0.4996 - pearson: 0.7019 - rmse: 0.5420\n",
            "Epoch 4/10\n",
            "26/26 [==============================] - 91s 3s/step - loss: 0.4747 - pearson: 0.7171 - rmse: 0.5301\n",
            "Epoch 5/10\n",
            "26/26 [==============================] - 91s 3s/step - loss: 0.4284 - pearson: 0.7529 - rmse: 0.4945\n",
            "Epoch 6/10\n",
            "26/26 [==============================] - 91s 3s/step - loss: 0.3694 - pearson: 0.7892 - rmse: 0.4635\n",
            "Epoch 7/10\n",
            "26/26 [==============================] - 91s 3s/step - loss: 0.3644 - pearson: 0.8014 - rmse: 0.4598\n",
            "Epoch 8/10\n",
            "26/26 [==============================] - 98s 4s/step - loss: 0.3380 - pearson: 0.8148 - rmse: 0.4374\n",
            "Epoch 9/10\n",
            "26/26 [==============================] - 90s 3s/step - loss: 0.3073 - pearson: 0.8367 - rmse: 0.4132\n",
            "Epoch 10/10\n",
            "26/26 [==============================] - 94s 4s/step - loss: 0.2856 - pearson: 0.8494 - rmse: 0.3972\n",
            "4/4 [==============================] - 2s 572ms/step - loss: 0.9649 - pearson: 0.4054 - rmse: 0.7585\n",
            "   - doing epochs 20 -> 30\n",
            "Epoch 1/10\n",
            "26/26 [==============================] - 93s 4s/step - loss: 0.2601 - pearson: 0.8630 - rmse: 0.3863\n",
            "Epoch 2/10\n",
            "26/26 [==============================] - 91s 3s/step - loss: 0.2795 - pearson: 0.8548 - rmse: 0.3947\n",
            "Epoch 3/10\n",
            "26/26 [==============================] - 91s 4s/step - loss: 0.2693 - pearson: 0.8624 - rmse: 0.3876\n",
            "Epoch 4/10\n",
            "26/26 [==============================] - 93s 4s/step - loss: 0.2562 - pearson: 0.8726 - rmse: 0.3751\n",
            "Epoch 5/10\n",
            "26/26 [==============================] - 91s 3s/step - loss: 0.2419 - pearson: 0.8726 - rmse: 0.3639\n",
            "Epoch 6/10\n",
            "26/26 [==============================] - 91s 3s/step - loss: 0.2219 - pearson: 0.8867 - rmse: 0.3543\n",
            "Epoch 7/10\n",
            "26/26 [==============================] - 93s 4s/step - loss: 0.2301 - pearson: 0.8786 - rmse: 0.3460\n",
            "Epoch 8/10\n",
            "26/26 [==============================] - 91s 3s/step - loss: 0.1967 - pearson: 0.8957 - rmse: 0.3279\n",
            "Epoch 9/10\n",
            "26/26 [==============================] - 91s 3s/step - loss: 0.2326 - pearson: 0.8776 - rmse: 0.3510\n",
            "Epoch 10/10\n",
            "26/26 [==============================] - 93s 4s/step - loss: 0.2228 - pearson: 0.8855 - rmse: 0.3376\n",
            "4/4 [==============================] - 2s 563ms/step - loss: 1.0023 - pearson: 0.4383 - rmse: 0.7733\n",
            " - evaluating results\n",
            "Best value for correlation on VAL set: 0.4382535517215729\n"
          ]
        },
        {
          "output_type": "stream",
          "name": "stderr",
          "text": [
            "ERROR:root:Internal Python error in the inspect module.\n",
            "Below is the traceback from this internal error.\n",
            "\n"
          ]
        },
        {
          "output_type": "stream",
          "name": "stdout",
          "text": [
            "Traceback (most recent call last):\n",
            "  File \"/usr/local/lib/python3.7/dist-packages/IPython/core/interactiveshell.py\", line 2882, in run_code\n",
            "    exec(code_obj, self.user_global_ns, self.user_ns)\n",
            "  File \"<ipython-input-8-e74db211a1d7>\", line 103, in <module>\n",
            "    res['ndcg10']  = ndcg10  if 'ndcg10'  in globals() else NaN\n",
            "NameError: name 'NaN' is not defined\n",
            "\n",
            "During handling of the above exception, another exception occurred:\n",
            "\n",
            "Traceback (most recent call last):\n",
            "  File \"/usr/local/lib/python3.7/dist-packages/IPython/core/interactiveshell.py\", line 1823, in showtraceback\n",
            "    stb = value._render_traceback_()\n",
            "AttributeError: 'NameError' object has no attribute '_render_traceback_'\n",
            "\n",
            "During handling of the above exception, another exception occurred:\n",
            "\n",
            "Traceback (most recent call last):\n",
            "  File \"/usr/local/lib/python3.7/dist-packages/IPython/core/ultratb.py\", line 1132, in get_records\n",
            "    return _fixed_getinnerframes(etb, number_of_lines_of_context, tb_offset)\n",
            "  File \"/usr/local/lib/python3.7/dist-packages/IPython/core/ultratb.py\", line 313, in wrapped\n",
            "    return f(*args, **kwargs)\n",
            "  File \"/usr/local/lib/python3.7/dist-packages/IPython/core/ultratb.py\", line 358, in _fixed_getinnerframes\n",
            "    records = fix_frame_records_filenames(inspect.getinnerframes(etb, context))\n",
            "  File \"/usr/lib/python3.7/inspect.py\", line 1502, in getinnerframes\n",
            "    frameinfo = (tb.tb_frame,) + getframeinfo(tb, context)\n",
            "  File \"/usr/lib/python3.7/inspect.py\", line 1460, in getframeinfo\n",
            "    filename = getsourcefile(frame) or getfile(frame)\n",
            "  File \"/usr/lib/python3.7/inspect.py\", line 696, in getsourcefile\n",
            "    if getattr(getmodule(object, filename), '__loader__', None) is not None:\n",
            "  File \"/usr/lib/python3.7/inspect.py\", line 742, in getmodule\n",
            "    os.path.realpath(f)] = module.__name__\n",
            "AttributeError: module has no attribute '__name__'\n"
          ]
        },
        {
          "output_type": "error",
          "ename": "NameError",
          "evalue": "ignored",
          "traceback": [
            "\u001b[0;31m---------------------------------------------------------------------------\u001b[0m"
          ]
        }
      ],
      "source": [
        "import tensorflow as tf\n",
        "from keras.models import Sequential\n",
        "from keras.layers import Dense, Dropout, Activation, Flatten, Input\n",
        "from keras.losses import MeanSquaredError, CosineSimilarity\n",
        "import tensorflow.keras.backend as K\n",
        "import json\n",
        "from textwrap import wrap\n",
        "import datetime;\n",
        "\n",
        "#comment/uncomment/create an experiment configuration block, below\n",
        "\n",
        "#------------------------\n",
        "#------------------------\n",
        "#experiment: best five layers, data augm on x\n",
        "config['experiment'] = '5L[32, 64][64, 32, 16], gaussian augmentation on X'\n",
        "config['experiment_desc'] = ''\n",
        "config['conv_layers'] = [32, 64]\n",
        "config['dense_layers'] = [64, 32, 16] \n",
        "reps_values    = [1]                    # n. of augmented copies of the data\n",
        "sigma_X_values = [0.1]                  # magnitude of noise added to augmented data\n",
        "sigma_y_values = [None]\n",
        "suffix = 'selected_net' \n",
        "save_predictions = False                 # if we want to save predictions to a file\n",
        "\n",
        "## number of replicates\n",
        "for rep in range(1): ## change range(n) for the number of replicates n\n",
        "  for i in range(len(reps_values)):\n",
        "    print(\" - updating the config object\")\n",
        "    config['gaussAugm_reps'] = reps_values[i]\n",
        "    config['gaussAugm_sigma_x'] = sigma_X_values[i]\n",
        "    config['gaussAugm_sigma_y'] = sigma_y_values[i]\n",
        "\n",
        "    print(\" - defining the model\")\n",
        "    model = instantiate_network(config)\n",
        "    model.trainable = True\n",
        "    trainable_count = np.sum([K.count_params(w) for w in model.trainable_weights])\n",
        "\n",
        "    print(\" - compiling the model\")\n",
        "    rmsprop = tf.keras.optimizers.RMSprop(learning_rate=config['learn_rate'])\n",
        "    model.compile(loss = MeanSquaredError(), optimizer = rmsprop, metrics = [pearson, rmse])\n",
        "\n",
        "    print(\" - splitting train and validation sets\")\n",
        "    (train_x, train_y, val_x, val_y, sel_val) = train_val_split(x=kinship, y=phenotypes, validation_split=0.2)\n",
        "\n",
        "    print(\" - augmenting train data with gaussian noise\")\n",
        "    (train_x_augm, train_y_augm) = augment_add_normal_noise(x = train_x, y = train_y, \n",
        "                                                            reps=config['gaussAugm_reps'], \n",
        "                                                            mu = None,     #mu of noise on y\n",
        "                                                            sigma = config['gaussAugm_sigma_y'],  #var of noise on y\n",
        "                                                            mu_x    = 0,   #mu of noise on x\n",
        "                                                            sigma_x = config['gaussAugm_sigma_x']) #var of noise on x\n",
        "\n",
        "    #room for training history\n",
        "    h = None\n",
        "\n",
        "    print(\" - fitting the model\")\n",
        "    for epochs in range(0, config['num_epochs'], 10):\n",
        "      print('   - doing epochs ' + str(epochs) + ' -> ' + str(epochs + 10))\n",
        "\n",
        "      #train for 10 epochs on training set, agumented\n",
        "      h_train = model.fit(train_x_augm, train_y_augm,\n",
        "          batch_size=config['batch_size'],\n",
        "          epochs = 10,\n",
        "          validation_split = 0,\n",
        "          verbose=1)\n",
        "      \n",
        "      #measuring perfomances on the validation set\n",
        "      validation_metrics = model.evaluate(val_x, val_y, batch_size=config['batch_size'])\n",
        "\n",
        "      #keeping track\n",
        "      h = merge_history(\n",
        "          train_set_history = h_train,\n",
        "          val_set_evaluation = validation_metrics, \n",
        "          metrics = model.metrics_names, \n",
        "          past_merged_history = h)\n",
        "      \n",
        "    #training is over, let's just update the internal epochs count\n",
        "    h.params['epochs'] = epochs + 10\n",
        "          ## saving predictions if required\n",
        "    \n",
        "    ## the model object is used to extract predictions\n",
        "    ## if not reinstantiated, I believe that the model object keeps being over\n",
        "    ## epochs in the above for loop; therefore the model object after the loop\n",
        "    ## containes the fully trained model to be used for predictions\n",
        "    if save_predictions == True:\n",
        "      print(\" - saving predictions\")\n",
        "      predictions = get_predictions(model, val_x, val_y, sel_val, config)\n",
        "      fname = os.path.join(project_folder, trait, suffix, \"predictions.csv\")\n",
        "      print(\"writing results to: \", fname)\n",
        "      writeout_results(predictions, fname)\n",
        "      ## calculating NDCG on predictions (val set)\n",
        "      ndcg10  = ndcg(predictions['y'], predictions['y_hat'], 0.10)\n",
        "      ndcg20  = ndcg(predictions['y'], predictions['y_hat'], 0.20)\n",
        "      ndcg50  = ndcg(predictions['y'], predictions['y_hat'], 0.50)\n",
        "      ndcg100 = ndcg(predictions['y'], predictions['y_hat'], 1.0)\n",
        "\n",
        "    print(\" - evaluating results\")\n",
        "    timestamp = datetime.datetime.now()\n",
        "    #config['timestamp'] = str(timestamp) # commented out because get_predictions() already produces a timestamp column in config\n",
        "    max_val_pearson = str(np.nanmax(h.history['val_pearson']))\n",
        "    print(\"Best value for correlation on VAL set: \" + max_val_pearson)  \n",
        "    res = parse_history(h, phenotypes, trait, config, max_val_pearson, trainable_count, replicate = rep)\n",
        "    res['ndcg10']  = ndcg10  if 'ndcg10'  in globals() else NaN\n",
        "    res['ndcg20']  = ndcg20  if 'ndcg20'  in globals() else NaN\n",
        "    res['ndcg50']  = ndcg50  if 'ndcg50'  in globals() else NaN\n",
        "    res['ndcg100'] = ndcg100 if 'ndcg100' in globals() else NaN\n",
        "    display(res)\n",
        "\n",
        "    print(\" - writing out results\")\n",
        "    fname = os.path.join(project_folder, trait, suffix, \"results.csv\")\n",
        "    print(\"writing results to: \", fname)\n",
        "    writeout_results(res, fname)\n",
        "\n",
        "    #save plots\n",
        "    if np.random.randn() > 1.5:\n",
        "      blob = '\\n'.join(wrap(json.dumps(config),60))\n",
        "      fname = os.path.join(os.path.dirname(fname), str(timestamp) + \"_loss.png\")\n",
        "      plot_loss_history(h, 'loss', fname, blob)  \n",
        "      fname = os.path.join(os.path.dirname(fname), str(timestamp) + \"_pearson.png\")\n",
        "      plot_loss_history(h, 'pearson', fname, blob)\n"
      ]
    },
    {
      "cell_type": "code",
      "execution_count": null,
      "metadata": {
        "id": "BEGpoJDV4Jsy",
        "colab": {
          "base_uri": "https://localhost:8080/",
          "height": 608
        },
        "outputId": "42b4cf5c-1f76-4d59-86cb-e11db11a6627"
      },
      "outputs": [
        {
          "output_type": "display_data",
          "data": {
            "text/plain": [
              "<Figure size 432x288 with 1 Axes>"
            ],
            "image/png": "[encoded data removed]"
          },
          "metadata": {
            "needs_background": "light"
          }
        },
        {
          "output_type": "stream",
          "name": "stdout",
          "text": [
            "Best value for correlation on VAL set: 0.4382535517215729\n",
            "Mean correlation on last five epochs on VAL set: 0.3915022611618042\n"
          ]
        },
        {
          "output_type": "display_data",
          "data": {
            "text/plain": [
              "<Figure size 432x288 with 1 Axes>"
            ],
            "image/png": "[encoded data removed]"
          },
          "metadata": {
            "needs_background": "light"
          }
        }
      ],
      "source": [
        "plot_loss_history(h, 'pearson')\n",
        "print(\"Best value for correlation on VAL set: \" + str(np.max(h.history['val_pearson'])))\n",
        "print(\"Mean correlation on last five epochs on VAL set: \" + str(np.average(h.history['val_pearson'][-5:])))\n",
        "\n",
        "plot_loss_history(h, 'loss')"
      ]
    }
  ],
  "metadata": {
    "colab": {
      "collapsed_sections": [],
      "name": "deep_learning_model_run.ipynb",
      "provenance": []
    },
    "kernelspec": {
      "display_name": "Python 3",
      "name": "python3"
    },
    "language_info": {
      "name": "python"
    },
    "accelerator": "GPU"
  },
  "nbformat": 4,
  "nbformat_minor": 0
}